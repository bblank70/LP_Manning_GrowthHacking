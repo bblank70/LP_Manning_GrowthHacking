{
 "cells": [
  {
   "cell_type": "markdown",
   "metadata": {},
   "source": [
    "about this liveProject\n",
    "In this liveProject, you can gain an overall impression of the job of a Natural Language Processing (NLP) Specialist working on the Growth Hacking Team of a freshly launched startup that is introducing a new video game to the market. One of the key targets of a growth hacking team is to enhance the massive growth of early startups in a short time. To do so, it introduces strategies with the help of which one can acquire as many customers as possible with the lowest cost as possible. As part of your team’s growth hacking strategy, your boss wants to map the field of the video game market. She aims to find out how customers evaluate your competitors’ products, namely what they like and dislike in a video game. Knowing what makes a video game attractive to a gamer helps the marketing team articulate the message of your product more effectively.\n",
    "\n",
    "To be able to find out what makes a video game worth buying according to gamers, you need to get deeper insights into the linguistic features of their utterances. As an NLP Specialist, your task will be to analyze customers’ reviews about video games. In order to carry out this task, you will employ different NLP methods. These methods will enable you to acquire a deeper understanding of customer feedback and opinion.\n",
    "\n",
    "Your task as an NLP Specialist on the Growth Hacking Team is the following:\n",
    "\n",
    "Download the dataset of Amazon reviews.\n",
    "Create your own dataset from the Amazon reviews.\n",
    "Decide whether people like or dislike the video game they bought. Label each review with a sentiment score between -1 and 1.\n",
    "Check the performance of your sentiment analyzer by comparing the sentiment scores with the review ratings.\n",
    "Evaluate the performance of your sentiment analyzer and find out if you managed to correctly label the reviews.\n",
    "Try out other methods of sentiment analysis. Explore how people evaluate the video game they purchased by classifying the reviews as positive, negative, and neutral.\n",
    "Summarize your results to the Head of the Growth Hacking Team. Based on your findings, list those things that are liked and those ones that are disliked about video games."
   ]
  },
  {
   "cell_type": "markdown",
   "metadata": {},
   "source": [
    "# Section 1: Data Import, Inspection, and Sampling"
   ]
  },
  {
   "cell_type": "markdown",
   "metadata": {},
   "source": [
    "## Library Imports"
   ]
  },
  {
   "cell_type": "code",
   "execution_count": 4,
   "metadata": {},
   "outputs": [],
   "source": [
    "import ndjson\n",
    "import pandas as pd\n",
    "import altair\n",
    "\n",
    "from collections import Counter\n",
    "from sklearn.datasets import make_classification\n",
    "\n",
    "from imblearn.under_sampling import RandomUnderSampler\n",
    "\n",
    "\n",
    "\n",
    "\n",
    "from pathlib import Path\n",
    "\n"
   ]
  },
  {
   "cell_type": "markdown",
   "metadata": {},
   "source": [
    "## File reading"
   ]
  },
  {
   "cell_type": "code",
   "execution_count": 5,
   "metadata": {},
   "outputs": [],
   "source": [
    "\n",
    "data_folder = Path(\"C:/Users/bblank/Documents/Python/GIT/ManningLPGrowthHacking/data/Video_Games_5\")\n",
    "\n",
    "file_to_open = data_folder / \"Video_Games_5.json\"\n",
    "\n",
    "with open(file_to_open) as f:\n",
    "    data = ndjson.load(f)\n",
    "\n",
    "# convert to and from objects\n",
    "text = ndjson.dumps(data)\n",
    "data = ndjson.loads(text)\n",
    "\n"
   ]
  },
  {
   "cell_type": "markdown",
   "metadata": {},
   "source": [
    "## Item inspection and dataframe generation\n",
    " "
   ]
  },
  {
   "cell_type": "code",
   "execution_count": 6,
   "metadata": {
    "scrolled": false
   },
   "outputs": [
    {
     "data": {
      "text/plain": [
       "{'overall': 1.0,\n",
       " 'verified': False,\n",
       " 'reviewTime': '08 2, 2014',\n",
       " 'reviewerID': 'A1KXJ1ELZIU05C',\n",
       " 'asin': '0700026657',\n",
       " 'reviewerName': 'Creation27',\n",
       " 'reviewText': \"I'm an avid gamer, but Anno 2070 is an INSULT to gaming.  It is so buggy and half-finished that the first campaign doesn't even work properly and the DRM is INCREDIBLY frustrating to deal with.\\n\\nOnce you manage to work your way past the massive amounts of bugs and get through the DRM, HOURS later you finally figure out that the game has no real tutorial, so you stuck just clicking around randomly.\\n\\nSad, sad, sad, example of a game that could have been great but FTW.\",\n",
       " 'summary': 'Avoid This Game - Filled with Bugs',\n",
       " 'unixReviewTime': 1406937600}"
      ]
     },
     "execution_count": 6,
     "metadata": {},
     "output_type": "execute_result"
    }
   ],
   "source": [
    "\n",
    "reviews = pd.DataFrame.from_dict(data)\n",
    "data[6]\n"
   ]
  },
  {
   "cell_type": "code",
   "execution_count": 4,
   "metadata": {},
   "outputs": [
    {
     "data": {
      "text/plain": [
       "(497577, 12)"
      ]
     },
     "execution_count": 4,
     "metadata": {},
     "output_type": "execute_result"
    }
   ],
   "source": [
    "reviews.shape"
   ]
  },
  {
   "cell_type": "code",
   "execution_count": 7,
   "metadata": {},
   "outputs": [
    {
     "data": {
      "text/html": [
       "<div>\n",
       "<style scoped>\n",
       "    .dataframe tbody tr th:only-of-type {\n",
       "        vertical-align: middle;\n",
       "    }\n",
       "\n",
       "    .dataframe tbody tr th {\n",
       "        vertical-align: top;\n",
       "    }\n",
       "\n",
       "    .dataframe thead th {\n",
       "        text-align: right;\n",
       "    }\n",
       "</style>\n",
       "<table border=\"1\" class=\"dataframe\">\n",
       "  <thead>\n",
       "    <tr style=\"text-align: right;\">\n",
       "      <th></th>\n",
       "      <th>overall</th>\n",
       "      <th>verified</th>\n",
       "      <th>reviewTime</th>\n",
       "      <th>reviewerID</th>\n",
       "      <th>asin</th>\n",
       "      <th>reviewerName</th>\n",
       "      <th>reviewText</th>\n",
       "      <th>summary</th>\n",
       "      <th>unixReviewTime</th>\n",
       "      <th>vote</th>\n",
       "      <th>style</th>\n",
       "      <th>image</th>\n",
       "    </tr>\n",
       "  </thead>\n",
       "  <tbody>\n",
       "    <tr>\n",
       "      <th>81625</th>\n",
       "      <td>1.0</td>\n",
       "      <td>True</td>\n",
       "      <td>12 16, 2011</td>\n",
       "      <td>A2EYD6E0TFQPVL</td>\n",
       "      <td>B000FKBCX4</td>\n",
       "      <td>chris</td>\n",
       "      <td>The game was really cool up until you start tr...</td>\n",
       "      <td>waste of money</td>\n",
       "      <td>1323993600</td>\n",
       "      <td>NaN</td>\n",
       "      <td>{'Edition:': ' Standard', 'Platform:': ' PC/Mac'}</td>\n",
       "      <td>NaN</td>\n",
       "    </tr>\n",
       "    <tr>\n",
       "      <th>188136</th>\n",
       "      <td>5.0</td>\n",
       "      <td>True</td>\n",
       "      <td>12 16, 2011</td>\n",
       "      <td>A2EYD6E0TFQPVL</td>\n",
       "      <td>B001VJ4DHK</td>\n",
       "      <td>chris</td>\n",
       "      <td>Great story, insane environments, awesome alie...</td>\n",
       "      <td>AMAZING</td>\n",
       "      <td>1323993600</td>\n",
       "      <td>NaN</td>\n",
       "      <td>{'Format:': ' Video Game'}</td>\n",
       "      <td>NaN</td>\n",
       "    </tr>\n",
       "    <tr>\n",
       "      <th>241265</th>\n",
       "      <td>3.0</td>\n",
       "      <td>False</td>\n",
       "      <td>03 14, 2012</td>\n",
       "      <td>A2EYD6E0TFQPVL</td>\n",
       "      <td>B0050SY06W</td>\n",
       "      <td>chris</td>\n",
       "      <td>I Think it's funny that the price dropped so f...</td>\n",
       "      <td>simply amazing, for about a week</td>\n",
       "      <td>1331683200</td>\n",
       "      <td>3</td>\n",
       "      <td>{'Format:': ' Video Game'}</td>\n",
       "      <td>NaN</td>\n",
       "    </tr>\n",
       "    <tr>\n",
       "      <th>433323</th>\n",
       "      <td>3.0</td>\n",
       "      <td>True</td>\n",
       "      <td>04 14, 2017</td>\n",
       "      <td>A2EYD6E0TFQPVL</td>\n",
       "      <td>B01BY7YIC8</td>\n",
       "      <td>chris</td>\n",
       "      <td>Cool mirco android based gaming system.\\nPros;...</td>\n",
       "      <td>worth it, but just barely</td>\n",
       "      <td>1492128000</td>\n",
       "      <td>2</td>\n",
       "      <td>NaN</td>\n",
       "      <td>NaN</td>\n",
       "    </tr>\n",
       "    <tr>\n",
       "      <th>492473</th>\n",
       "      <td>3.0</td>\n",
       "      <td>True</td>\n",
       "      <td>03 17, 2018</td>\n",
       "      <td>A2EYD6E0TFQPVL</td>\n",
       "      <td>B00NPG4MUU</td>\n",
       "      <td>chris</td>\n",
       "      <td>works good as a training tool,but if you want ...</td>\n",
       "      <td>Three Stars</td>\n",
       "      <td>1521244800</td>\n",
       "      <td>NaN</td>\n",
       "      <td>{'Edition:': ' Cable Included', 'Platform:': '...</td>\n",
       "      <td>NaN</td>\n",
       "    </tr>\n",
       "    <tr>\n",
       "      <th>495370</th>\n",
       "      <td>1.0</td>\n",
       "      <td>True</td>\n",
       "      <td>03 17, 2018</td>\n",
       "      <td>A2EYD6E0TFQPVL</td>\n",
       "      <td>B014G03F24</td>\n",
       "      <td>chris</td>\n",
       "      <td>code didn't work, got me a refund.</td>\n",
       "      <td>One Star</td>\n",
       "      <td>1521244800</td>\n",
       "      <td>NaN</td>\n",
       "      <td>NaN</td>\n",
       "      <td>NaN</td>\n",
       "    </tr>\n",
       "  </tbody>\n",
       "</table>\n",
       "</div>"
      ],
      "text/plain": [
       "        overall  verified   reviewTime      reviewerID        asin  \\\n",
       "81625       1.0      True  12 16, 2011  A2EYD6E0TFQPVL  B000FKBCX4   \n",
       "188136      5.0      True  12 16, 2011  A2EYD6E0TFQPVL  B001VJ4DHK   \n",
       "241265      3.0     False  03 14, 2012  A2EYD6E0TFQPVL  B0050SY06W   \n",
       "433323      3.0      True  04 14, 2017  A2EYD6E0TFQPVL  B01BY7YIC8   \n",
       "492473      3.0      True  03 17, 2018  A2EYD6E0TFQPVL  B00NPG4MUU   \n",
       "495370      1.0      True  03 17, 2018  A2EYD6E0TFQPVL  B014G03F24   \n",
       "\n",
       "       reviewerName                                         reviewText  \\\n",
       "81625         chris  The game was really cool up until you start tr...   \n",
       "188136        chris  Great story, insane environments, awesome alie...   \n",
       "241265        chris  I Think it's funny that the price dropped so f...   \n",
       "433323        chris  Cool mirco android based gaming system.\\nPros;...   \n",
       "492473        chris  works good as a training tool,but if you want ...   \n",
       "495370        chris                 code didn't work, got me a refund.   \n",
       "\n",
       "                                 summary  unixReviewTime vote  \\\n",
       "81625                     waste of money      1323993600  NaN   \n",
       "188136                           AMAZING      1323993600  NaN   \n",
       "241265  simply amazing, for about a week      1331683200    3   \n",
       "433323         worth it, but just barely      1492128000    2   \n",
       "492473                       Three Stars      1521244800  NaN   \n",
       "495370                          One Star      1521244800  NaN   \n",
       "\n",
       "                                                    style image  \n",
       "81625   {'Edition:': ' Standard', 'Platform:': ' PC/Mac'}   NaN  \n",
       "188136                         {'Format:': ' Video Game'}   NaN  \n",
       "241265                         {'Format:': ' Video Game'}   NaN  \n",
       "433323                                                NaN   NaN  \n",
       "492473  {'Edition:': ' Cable Included', 'Platform:': '...   NaN  \n",
       "495370                                                NaN   NaN  "
      ]
     },
     "execution_count": 7,
     "metadata": {},
     "output_type": "execute_result"
    }
   ],
   "source": [
    "reviews[reviews.reviewerID=='A2EYD6E0TFQPVL']"
   ]
  },
  {
   "cell_type": "markdown",
   "metadata": {},
   "source": [
    "## Histogram"
   ]
  },
  {
   "cell_type": "code",
   "execution_count": 8,
   "metadata": {
    "scrolled": false
   },
   "outputs": [
    {
     "data": {
      "text/plain": [
       "<matplotlib.axes._subplots.AxesSubplot at 0x21baa8e3708>"
      ]
     },
     "execution_count": 8,
     "metadata": {},
     "output_type": "execute_result"
    },
    {
     "data": {
      "image/png": "[encoded data removed]",
      "text/plain": [
       "<Figure size 432x288 with 1 Axes>"
      ]
     },
     "metadata": {
      "needs_background": "light"
     },
     "output_type": "display_data"
    }
   ],
   "source": [
    "reviews.overall.hist()\n"
   ]
  },
  {
   "cell_type": "markdown",
   "metadata": {},
   "source": [
    "## Random undersampling"
   ]
  },
  {
   "cell_type": "code",
   "execution_count": 9,
   "metadata": {},
   "outputs": [
    {
     "data": {
      "text/html": [
       "<div>\n",
       "<style scoped>\n",
       "    .dataframe tbody tr th:only-of-type {\n",
       "        vertical-align: middle;\n",
       "    }\n",
       "\n",
       "    .dataframe tbody tr th {\n",
       "        vertical-align: top;\n",
       "    }\n",
       "\n",
       "    .dataframe thead th {\n",
       "        text-align: right;\n",
       "    }\n",
       "</style>\n",
       "<table border=\"1\" class=\"dataframe\">\n",
       "  <thead>\n",
       "    <tr style=\"text-align: right;\">\n",
       "      <th></th>\n",
       "      <th>verified</th>\n",
       "      <th>reviewTime</th>\n",
       "      <th>reviewerID</th>\n",
       "      <th>asin</th>\n",
       "      <th>reviewerName</th>\n",
       "      <th>reviewText</th>\n",
       "      <th>summary</th>\n",
       "      <th>unixReviewTime</th>\n",
       "      <th>vote</th>\n",
       "      <th>style</th>\n",
       "      <th>image</th>\n",
       "      <th>overall</th>\n",
       "    </tr>\n",
       "  </thead>\n",
       "  <tbody>\n",
       "    <tr>\n",
       "      <th>0</th>\n",
       "      <td>False</td>\n",
       "      <td>10 22, 2008</td>\n",
       "      <td>A74TA8X5YQ7NE</td>\n",
       "      <td>B000X9FV5M</td>\n",
       "      <td>NeuroSplicer</td>\n",
       "      <td>Recently UBISOFT had to settle a huge class-ac...</td>\n",
       "      <td>THE DAY GAMING CRIED...</td>\n",
       "      <td>1224633600</td>\n",
       "      <td>NaN</td>\n",
       "      <td>{'Format:': ' Video Game'}</td>\n",
       "      <td>NaN</td>\n",
       "      <td>1.0</td>\n",
       "    </tr>\n",
       "    <tr>\n",
       "      <th>1</th>\n",
       "      <td>True</td>\n",
       "      <td>03 17, 2018</td>\n",
       "      <td>A2EYD6E0TFQPVL</td>\n",
       "      <td>B014G03F24</td>\n",
       "      <td>chris</td>\n",
       "      <td>code didn't work, got me a refund.</td>\n",
       "      <td>One Star</td>\n",
       "      <td>1521244800</td>\n",
       "      <td>NaN</td>\n",
       "      <td>NaN</td>\n",
       "      <td>NaN</td>\n",
       "      <td>1.0</td>\n",
       "    </tr>\n",
       "    <tr>\n",
       "      <th>2</th>\n",
       "      <td>True</td>\n",
       "      <td>02 22, 2017</td>\n",
       "      <td>A303LKXI2SAZQ4</td>\n",
       "      <td>B003OAE79S</td>\n",
       "      <td>tammy</td>\n",
       "      <td>these do not work at all, all i get is static ...</td>\n",
       "      <td>these do not work at all, all i get ...</td>\n",
       "      <td>1487721600</td>\n",
       "      <td>NaN</td>\n",
       "      <td>{'Size:': ' one size'}</td>\n",
       "      <td>NaN</td>\n",
       "      <td>1.0</td>\n",
       "    </tr>\n",
       "    <tr>\n",
       "      <th>3</th>\n",
       "      <td>False</td>\n",
       "      <td>03 23, 2012</td>\n",
       "      <td>A1JGSUX59ZTWYE</td>\n",
       "      <td>B004UDLRMS</td>\n",
       "      <td>Bear</td>\n",
       "      <td>well let me start by saying that when i first ...</td>\n",
       "      <td>last gen game</td>\n",
       "      <td>1332460800</td>\n",
       "      <td>6</td>\n",
       "      <td>{'Format:': ' Video Game'}</td>\n",
       "      <td>NaN</td>\n",
       "      <td>1.0</td>\n",
       "    </tr>\n",
       "    <tr>\n",
       "      <th>4</th>\n",
       "      <td>False</td>\n",
       "      <td>05 16, 2008</td>\n",
       "      <td>AXIVHIP86D1MJ</td>\n",
       "      <td>B0013B30SY</td>\n",
       "      <td>Mustang</td>\n",
       "      <td>Dont waste your money, you will just end up us...</td>\n",
       "      <td>Waste</td>\n",
       "      <td>1210896000</td>\n",
       "      <td>4</td>\n",
       "      <td>NaN</td>\n",
       "      <td>NaN</td>\n",
       "      <td>1.0</td>\n",
       "    </tr>\n",
       "  </tbody>\n",
       "</table>\n",
       "</div>"
      ],
      "text/plain": [
       "   verified   reviewTime      reviewerID        asin  reviewerName  \\\n",
       "0     False  10 22, 2008   A74TA8X5YQ7NE  B000X9FV5M  NeuroSplicer   \n",
       "1      True  03 17, 2018  A2EYD6E0TFQPVL  B014G03F24         chris   \n",
       "2      True  02 22, 2017  A303LKXI2SAZQ4  B003OAE79S         tammy   \n",
       "3     False  03 23, 2012  A1JGSUX59ZTWYE  B004UDLRMS          Bear   \n",
       "4     False  05 16, 2008   AXIVHIP86D1MJ  B0013B30SY       Mustang   \n",
       "\n",
       "                                          reviewText  \\\n",
       "0  Recently UBISOFT had to settle a huge class-ac...   \n",
       "1                 code didn't work, got me a refund.   \n",
       "2  these do not work at all, all i get is static ...   \n",
       "3  well let me start by saying that when i first ...   \n",
       "4  Dont waste your money, you will just end up us...   \n",
       "\n",
       "                                   summary  unixReviewTime vote  \\\n",
       "0                  THE DAY GAMING CRIED...      1224633600  NaN   \n",
       "1                                 One Star      1521244800  NaN   \n",
       "2  these do not work at all, all i get ...      1487721600  NaN   \n",
       "3                            last gen game      1332460800    6   \n",
       "4                                    Waste      1210896000    4   \n",
       "\n",
       "                        style image  overall  \n",
       "0  {'Format:': ' Video Game'}   NaN      1.0  \n",
       "1                         NaN   NaN      1.0  \n",
       "2      {'Size:': ' one size'}   NaN      1.0  \n",
       "3  {'Format:': ' Video Game'}   NaN      1.0  \n",
       "4                         NaN   NaN      1.0  "
      ]
     },
     "execution_count": 9,
     "metadata": {},
     "output_type": "execute_result"
    }
   ],
   "source": [
    "#split the reviews\n",
    "y=reviews['overall']\n",
    "x=reviews.drop(['overall'], axis=1)\n",
    "\n",
    "rus = RandomUnderSampler( sampling_strategy={1.0: 1500, 2.0: 500, 3.0: 500, 4.0: 500, 5.0: 1500}, random_state=42, )\n",
    "\n",
    "results = rus.fit_sample(x,y)\n",
    "samples = results[0]\n",
    "rating = results[1]\n",
    "samples['overall']=rating\n",
    "\n",
    "samples.head()"
   ]
  },
  {
   "cell_type": "markdown",
   "metadata": {},
   "source": [
    "## Subsample"
   ]
  },
  {
   "cell_type": "code",
   "execution_count": 11,
   "metadata": {},
   "outputs": [
    {
     "data": {
      "text/plain": [
       "<matplotlib.axes._subplots.AxesSubplot at 0x21bb33787c8>"
      ]
     },
     "execution_count": 11,
     "metadata": {},
     "output_type": "execute_result"
    },
    {
     "data": {
      "image/png": "[encoded data removed]",
      "text/plain": [
       "<Figure size 432x288 with 1 Axes>"
      ]
     },
     "metadata": {
      "needs_background": "light"
     },
     "output_type": "display_data"
    }
   ],
   "source": [
    "samples.overall.hist()"
   ]
  },
  {
   "cell_type": "markdown",
   "metadata": {},
   "source": [
    "## Saving flat files"
   ]
  },
  {
   "cell_type": "code",
   "execution_count": 19,
   "metadata": {},
   "outputs": [],
   "source": [
    "small = samples[['overall', 'reviewText']]\n",
    "\n",
    "large = reviews[['overall', 'reviewText']]\n",
    "\n",
    "\n",
    "#small.to_csv('small_corpus.csv',sep=',', index=False)\n",
    "#large.to_csv('large_corpus.csv', sep=',', index=False)"
   ]
  },
  {
   "cell_type": "markdown",
   "metadata": {},
   "source": [
    "# Section2: NLP"
   ]
  }
 ],
 "metadata": {
  "kernelspec": {
   "display_name": "Python 3",
   "language": "python",
   "name": "python3"
  },
  "language_info": {
   "codemirror_mode": {
    "name": "ipython",
    "version": 3
   },
   "file_extension": ".py",
   "mimetype": "text/x-python",
   "name": "python",
   "nbconvert_exporter": "python",
   "pygments_lexer": "ipython3",
   "version": "3.7.6"
  }
 },
 "nbformat": 4,
 "nbformat_minor": 4
}
